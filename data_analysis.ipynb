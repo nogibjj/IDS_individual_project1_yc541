{
 "cells": [
  {
   "cell_type": "markdown",
   "metadata": {},
   "source": [
    "This notebook will step through a descriptive statistics script about Amazon Top 50 Bestselling Books 2009 - 2019.\n",
    "\n",
    "First, we import a lib.py file which contains functions for descriptive statistics, which will be used in both this jupyter notebook and the python script in this project.\n"
   ]
  },
  {
   "cell_type": "code",
   "execution_count": 2,
   "metadata": {},
   "outputs": [],
   "source": [
    "import lib\n",
    "import pandas as pd\n",
    "%matplotlib inline\n",
    "import matplotlib.pyplot as plt\n",
    "import seaborn as sns\n",
    "\n",
    "# Load the data\n",
    "data = lib.load_csv(\"bestsellers with categories.csv\")"
   ]
  },
  {
   "cell_type": "markdown",
   "metadata": {},
   "source": [
    "get the summary of this dataset"
   ]
  },
  {
   "cell_type": "code",
   "execution_count": 3,
   "metadata": {},
   "outputs": [
    {
     "name": "stdout",
     "output_type": "stream",
     "text": [
      "===== Rating Summary =====\n",
      "       mean  median\n",
      "Year               \n",
      "2009  4.584    4.60\n",
      "2010  4.558    4.60\n",
      "2011  4.558    4.60\n",
      "2012  4.532    4.60\n",
      "2013  4.554    4.60\n",
      "2014  4.622    4.65\n",
      "2015  4.648    4.70\n",
      "2016  4.678    4.70\n",
      "2017  4.660    4.70\n",
      "2018  4.668    4.70\n",
      "2019  4.740    4.80\n",
      "\n",
      "===== Fiction & Non-Fiction Book Counts =====\n",
      "Genre  Fiction  Non Fiction\n",
      "Year                       \n",
      "2009        24           26\n",
      "2010        20           30\n",
      "2011        21           29\n",
      "2012        21           29\n",
      "2013        24           26\n",
      "2014        29           21\n",
      "2015        17           33\n",
      "2016        19           31\n",
      "2017        24           26\n",
      "2018        21           29\n",
      "2019        20           30\n",
      "\n",
      "===== Book Counts with Rating above 4.7 =====\n",
      "Genre  Fiction  Non Fiction\n",
      "Year                       \n",
      "2009         6            5\n",
      "2010         6            1\n",
      "2011         6            2\n",
      "2012         5            4\n",
      "2013        10            5\n",
      "2014        11            5\n",
      "2015        11            8\n",
      "2016        13            8\n",
      "2017        16            2\n",
      "2018        15            8\n",
      "2019        18           14\n"
     ]
    }
   ],
   "source": [
    "# 1. Summary for 2009-2019\n",
    "rating_per_year = data.groupby('Year')['User Rating'].agg(['mean', 'median'])\n",
    "fiction_non_fiction_count = data.groupby(['Year', 'Genre']).size().unstack(fill_value=0)\n",
    "books_above_47 = data[data['User Rating'] > 4.7].groupby(['Year', 'Genre']).size().unstack(fill_value=0)\n",
    "print(\"===== Rating Summary =====\")\n",
    "print(rating_per_year)\n",
    "print(\"\\n===== Fiction & Non-Fiction Book Counts =====\")\n",
    "print(fiction_non_fiction_count)\n",
    "print(\"\\n===== Book Counts with Rating above 4.7 =====\")\n",
    "print(books_above_47)"
   ]
  },
  {
   "cell_type": "markdown",
   "metadata": {},
   "source": []
  },
  {
   "cell_type": "code",
   "execution_count": 4,
   "metadata": {},
   "outputs": [
    {
     "name": "stdout",
     "output_type": "stream",
     "text": [
      "\n",
      "===== Highest Rated Books =====\n",
      "                                                  Name                 Author  \\\n",
      "40            Brown Bear, Brown Bear, What Do You See?        Bill Martin Jr.   \n",
      "81   Dog Man and Cat Kid: From the Creator of Capta...             Dav Pilkey   \n",
      "82   Dog Man: A Tale of Two Kitties: From the Creat...             Dav Pilkey   \n",
      "83   Dog Man: Brawl of the Wild: From the Creator o...             Dav Pilkey   \n",
      "85   Dog Man: Fetch-22: From the Creator of Captain...             Dav Pilkey   \n",
      "86   Dog Man: For Whom the Ball Rolls: From the Cre...             Dav Pilkey   \n",
      "87   Dog Man: Lord of the Fleas: From the Creator o...             Dav Pilkey   \n",
      "146  Goodnight, Goodnight Construction Site (Hardco...   Sherri Duskey Rinker   \n",
      "151                           Hamilton: The Revolution     Lin-Manuel Miranda   \n",
      "153  Harry Potter and the Chamber of Secrets: The I...           J.K. Rowling   \n",
      "155  Harry Potter and the Goblet of Fire: The Illus...          J. K. Rowling   \n",
      "156  Harry Potter and the Prisoner of Azkaban: The ...           J.K. Rowling   \n",
      "157  Harry Potter and the Sorcerer's Stone: The Ill...           J.K. Rowling   \n",
      "174                       Humans of New York : Stories        Brandon Stanton   \n",
      "187  Jesus Calling: Enjoying Peace in His Presence ...            Sarah Young   \n",
      "207  Last Week Tonight with John Oliver Presents A ...             Jill Twiss   \n",
      "219                                  Little Blue Truck         Alice Schertle   \n",
      "244                        Obama: An Intimate Portrait             Pete Souza   \n",
      "245                          Oh, the Places You'll Go!              Dr. Seuss   \n",
      "288  Rush Revere and the Brave Pilgrims: Time-Trave...          Rush Limbaugh   \n",
      "289  Rush Revere and the First Patriots: Time-Trave...          Rush Limbaugh   \n",
      "303             Strange Planet (Strange Planet Series)         Nathan W. Pyle   \n",
      "420               The Legend of Zelda: Hyrule Historia         Patrick Thorpe   \n",
      "431                                 The Magnolia Story            Chip Gaines   \n",
      "476                        The Very Hungry Caterpillar             Eric Carle   \n",
      "486                   The Wonderful Things You Will Be  Emily Winfield Martin   \n",
      "521                             Unfreedom of the Press          Mark R. Levin   \n",
      "545       Wrecking Ball (Diary of a Wimpy Kid Book 14)            Jeff Kinney   \n",
      "\n",
      "           Genre  User Rating  \n",
      "40       Fiction          4.9  \n",
      "81       Fiction          4.9  \n",
      "82       Fiction          4.9  \n",
      "83       Fiction          4.9  \n",
      "85       Fiction          4.9  \n",
      "86       Fiction          4.9  \n",
      "87       Fiction          4.9  \n",
      "146      Fiction          4.9  \n",
      "151  Non Fiction          4.9  \n",
      "153      Fiction          4.9  \n",
      "155      Fiction          4.9  \n",
      "156      Fiction          4.9  \n",
      "157      Fiction          4.9  \n",
      "174  Non Fiction          4.9  \n",
      "187  Non Fiction          4.9  \n",
      "207      Fiction          4.9  \n",
      "219      Fiction          4.9  \n",
      "244  Non Fiction          4.9  \n",
      "245      Fiction          4.9  \n",
      "288      Fiction          4.9  \n",
      "289      Fiction          4.9  \n",
      "303      Fiction          4.9  \n",
      "420      Fiction          4.9  \n",
      "431  Non Fiction          4.9  \n",
      "476      Fiction          4.9  \n",
      "486      Fiction          4.9  \n",
      "521  Non Fiction          4.9  \n",
      "545      Fiction          4.9  \n",
      "\n",
      "===== Lowest Rated Books =====\n",
      "                   Name        Author    Genre  User Rating\n",
      "353  The Casual Vacancy  J.K. Rowling  Fiction          3.3\n"
     ]
    }
   ],
   "source": [
    "# 2. Books with highest and lowest rating across the years\n",
    "highest_rated_books = data[data['User Rating'] == data['User Rating'].max()].drop_duplicates(subset=['Name', 'Author'])\n",
    "lowest_rated_books = data[data['User Rating'] == data['User Rating'].min()]\n",
    "print(\"\\n===== Highest Rated Books =====\")\n",
    "print(highest_rated_books[['Name', 'Author', 'Genre', 'User Rating']])\n",
    "print(\"\\n===== Lowest Rated Books =====\")\n",
    "print(lowest_rated_books[['Name', 'Author', 'Genre', 'User Rating']])"
   ]
  },
  {
   "cell_type": "markdown",
   "metadata": {},
   "source": [
    "now we are going to do the correlation analysis."
   ]
  },
  {
   "cell_type": "code",
   "execution_count": 5,
   "metadata": {},
   "outputs": [
    {
     "name": "stdout",
     "output_type": "stream",
     "text": [
      "\n",
      "===== Correlation: Rating vs. Reviews =====\n",
      "Correlation coefficient: -0.0017290142555501195\n",
      "\n",
      "===== Correlation: Rating vs. Price =====\n",
      "Correlation coefficient: -0.13308628728087976\n"
     ]
    }
   ],
   "source": [
    "# 3. Correlation: Rating vs. Reviews and Rating vs. Price\n",
    "corr_rating_reviews = lib.get_correlation(data, 'User Rating', 'Reviews')\n",
    "corr_rating_price = lib.get_correlation(data, 'User Rating', 'Price')\n",
    "print(\"\\n===== Correlation: Rating vs. Reviews =====\")\n",
    "print(f\"Correlation coefficient: {corr_rating_reviews}\")\n",
    "print(\"\\n===== Correlation: Rating vs. Price =====\")\n",
    "print(f\"Correlation coefficient: {corr_rating_price}\")"
   ]
  },
  {
   "cell_type": "markdown",
   "metadata": {},
   "source": [
    "The last part is about data visulization. There are 3 plots."
   ]
  },
  {
   "cell_type": "code",
   "execution_count": 7,
   "metadata": {},
   "outputs": [],
   "source": [
    "# Visualizations\n",
    "lib.visualize_correlation(data, 'User Rating', 'Reviews', 'Rating vs. Reviews', \"rating_vs_reviews.png\")\n",
    "lib.visualize_correlation(data, 'User Rating', 'Price', 'Rating vs. Price', \"rating_vs_price.png\")\n",
    "lib.visualize_line_chart(books_above_47.reset_index(), 'Year', 'Fiction', 'Non Fiction', 'Books with Rating above 4.7 over the years', \"books_above_47_over_years.png\")"
   ]
  }
 ],
 "metadata": {
  "kernelspec": {
   "display_name": "venv",
   "language": "python",
   "name": "python3"
  },
  "language_info": {
   "codemirror_mode": {
    "name": "ipython",
    "version": 3
   },
   "file_extension": ".py",
   "mimetype": "text/x-python",
   "name": "python",
   "nbconvert_exporter": "python",
   "pygments_lexer": "ipython3",
   "version": "3.8.10"
  },
  "orig_nbformat": 4
 },
 "nbformat": 4,
 "nbformat_minor": 2
}
